{
  "nbformat": 4,
  "nbformat_minor": 0,
  "metadata": {
    "colab": {
      "provenance": []
    },
    "kernelspec": {
      "name": "python3",
      "display_name": "Python 3"
    },
    "language_info": {
      "name": "python"
    }
  },
  "cells": [
    {
      "cell_type": "markdown",
      "source": [
        "## Analisis Penjualan dan Pengiriman pada Ecommerce"
      ],
      "metadata": {
        "id": "GT0oSFloSUD9"
      }
    },
    {
      "cell_type": "markdown",
      "source": [
        "Objctive:\n",
        "- Kota mana sajakah yang memiliki transaksi paling banyak?\n",
        "- Kota mana sajakah dengan pengiriman terlambat terbanyak?\n",
        "- Bagaimana pengaruh keterlambatan pengiriman terhadap review?\n",
        "\n"
      ],
      "metadata": {
        "id": "LGrNuRODMg3A"
      }
    },
    {
      "cell_type": "markdown",
      "source": [
        "### Import Library"
      ],
      "metadata": {
        "id": "4Eb0NWoSQbIQ"
      }
    },
    {
      "cell_type": "code",
      "execution_count": 1,
      "metadata": {
        "id": "_zAjs87Afsbh"
      },
      "outputs": [],
      "source": [
        "import sqlite3\n",
        "import pandas as pd\n",
        "import seaborn as sns\n",
        "import matplotlib.pyplot as plt"
      ]
    },
    {
      "cell_type": "markdown",
      "source": [
        "### Import Data"
      ],
      "metadata": {
        "id": "HxOJRA9uQg1q"
      }
    },
    {
      "cell_type": "code",
      "source": [
        "def get_result(query):\n",
        "    '''\n",
        "    Querying olist database\n",
        "\n",
        "    Parameter\n",
        "    ---------\n",
        "    query : 'string'\n",
        "        the query to get the data from database\n",
        "\n",
        "    Returns \n",
        "    -------\n",
        "    List of data\n",
        "    '''\n",
        "    conn = sqlite3.connect('/content/drive/MyDrive/Pacmann AI/Data Wrangling & SQL/olist.db')\n",
        "    cursor = conn.cursor()\n",
        "    cursor.execute(query)\n",
        "    data = cursor.fetchall()\n",
        "    conn.close()\n",
        "    return data\n",
        "\n",
        "def create_db(data, columns):\n",
        "    '''\n",
        "    Convert list of data into dataframe\n",
        "\n",
        "    Parameter\n",
        "    ---------\n",
        "    data : 'list'\n",
        "        list of data\n",
        "    columns : 'list'\n",
        "        list of column name\n",
        "\n",
        "    Returns \n",
        "    -------\n",
        "    dataframe\n",
        "    '''\n",
        "    return pd.DataFrame(data=data, columns=columns).drop(['index'], axis=1)"
      ],
      "metadata": {
        "id": "niMDljvchlt4"
      },
      "execution_count": 2,
      "outputs": []
    },
    {
      "cell_type": "code",
      "source": [
        "# extract table order\n",
        "order = create_db(get_result('SELECT * FROM olist_order_dataset'), ['index','order_id','customer_id','order_status','order_purchase_timestamp','order_approved_at','order_delivered_carrier_date','order_delivered_customer_date','order_estimated_delivery_date'])\n",
        "# extract table customer\n",
        "customer = create_db(get_result('SELECT * FROM olist_order_customer_dataset'), ['index', 'customer_id','customers_unique_id','customers_zip_code_prefix','customer_city','customer_state'])\n",
        "# extract table review\n",
        "review = create_db(get_result('SELECT * FROM olist_order_reviews_dataset'), ['index','review_id', 'order_id','review_score','review_comment_title','review_comment_message','review_creation_date','review_answer_timestamp'])"
      ],
      "metadata": {
        "id": "XRrK1kvTiZEe"
      },
      "execution_count": 3,
      "outputs": []
    },
    {
      "cell_type": "markdown",
      "source": [
        "### Data Preprocessing"
      ],
      "metadata": {
        "id": "nvcyZjzhQoNI"
      }
    },
    {
      "cell_type": "markdown",
      "source": [
        "#### Missing Value"
      ],
      "metadata": {
        "id": "XrHIv-kFQwRF"
      }
    },
    {
      "cell_type": "code",
      "source": [
        "order.info()"
      ],
      "metadata": {
        "colab": {
          "base_uri": "https://localhost:8080/"
        },
        "id": "n012m7GaQvD3",
        "outputId": "4f5a4081-ba80-4805-fa1c-21247a5e05f2"
      },
      "execution_count": 4,
      "outputs": [
        {
          "output_type": "stream",
          "name": "stdout",
          "text": [
            "<class 'pandas.core.frame.DataFrame'>\n",
            "RangeIndex: 99441 entries, 0 to 99440\n",
            "Data columns (total 8 columns):\n",
            " #   Column                         Non-Null Count  Dtype \n",
            "---  ------                         --------------  ----- \n",
            " 0   order_id                       99441 non-null  object\n",
            " 1   customer_id                    99441 non-null  object\n",
            " 2   order_status                   99441 non-null  object\n",
            " 3   order_purchase_timestamp       99441 non-null  object\n",
            " 4   order_approved_at              99281 non-null  object\n",
            " 5   order_delivered_carrier_date   97658 non-null  object\n",
            " 6   order_delivered_customer_date  96476 non-null  object\n",
            " 7   order_estimated_delivery_date  99441 non-null  object\n",
            "dtypes: object(8)\n",
            "memory usage: 6.1+ MB\n"
          ]
        }
      ]
    },
    {
      "cell_type": "markdown",
      "source": [
        "Terdapat missing value pada kolom order_approved_at, order_delivered_carrier_date, dan order_delivered_customer_date. Hal ini terjadi karena terdapat berbagai macam status order. Dalam analisis ini hanya akan dilakukan analisis terhadap order dengan status 'delivered'."
      ],
      "metadata": {
        "id": "vsCPyDsZ1wC0"
      }
    },
    {
      "cell_type": "code",
      "source": [
        "# filter delivered transaction\n",
        "order_delivered = order[order['order_status']=='delivered'].copy()\n",
        "order_delivered.info()"
      ],
      "metadata": {
        "colab": {
          "base_uri": "https://localhost:8080/"
        },
        "id": "rQcnJ-GBSMIl",
        "outputId": "b7861be1-2ded-4507-809a-1cb64ecf05e7"
      },
      "execution_count": 5,
      "outputs": [
        {
          "output_type": "stream",
          "name": "stdout",
          "text": [
            "<class 'pandas.core.frame.DataFrame'>\n",
            "Int64Index: 96478 entries, 0 to 99440\n",
            "Data columns (total 8 columns):\n",
            " #   Column                         Non-Null Count  Dtype \n",
            "---  ------                         --------------  ----- \n",
            " 0   order_id                       96478 non-null  object\n",
            " 1   customer_id                    96478 non-null  object\n",
            " 2   order_status                   96478 non-null  object\n",
            " 3   order_purchase_timestamp       96478 non-null  object\n",
            " 4   order_approved_at              96464 non-null  object\n",
            " 5   order_delivered_carrier_date   96476 non-null  object\n",
            " 6   order_delivered_customer_date  96470 non-null  object\n",
            " 7   order_estimated_delivery_date  96478 non-null  object\n",
            "dtypes: object(8)\n",
            "memory usage: 6.6+ MB\n"
          ]
        }
      ]
    },
    {
      "cell_type": "markdown",
      "source": [
        "Ternyata masih terdapat missing value pada kolom order_approved_at, order_delivered_carrier_date, dan order_delivered_customer_date meskipun status ordernya sudah terkirim. Hal ini cukup aneh dan bisa kita asumsikan ini disebabkan oleh kesalahan sistem. Mengingat jumlah missing value tidak terlalu banyak maka row yang mengandung missing value akan dihapus."
      ],
      "metadata": {
        "id": "lcxD11PK2e1U"
      }
    },
    {
      "cell_type": "code",
      "source": [
        "# drop row with missing value \n",
        "order_delivered.dropna(inplace=True)"
      ],
      "metadata": {
        "id": "6q0nHLNCSgUK"
      },
      "execution_count": 6,
      "outputs": []
    },
    {
      "cell_type": "code",
      "source": [
        "order_delivered.info()"
      ],
      "metadata": {
        "colab": {
          "base_uri": "https://localhost:8080/"
        },
        "id": "EJzW8Y-ATDTQ",
        "outputId": "c1672cb2-2129-46e6-ba48-02136c7c2336"
      },
      "execution_count": 7,
      "outputs": [
        {
          "output_type": "stream",
          "name": "stdout",
          "text": [
            "<class 'pandas.core.frame.DataFrame'>\n",
            "Int64Index: 96455 entries, 0 to 99440\n",
            "Data columns (total 8 columns):\n",
            " #   Column                         Non-Null Count  Dtype \n",
            "---  ------                         --------------  ----- \n",
            " 0   order_id                       96455 non-null  object\n",
            " 1   customer_id                    96455 non-null  object\n",
            " 2   order_status                   96455 non-null  object\n",
            " 3   order_purchase_timestamp       96455 non-null  object\n",
            " 4   order_approved_at              96455 non-null  object\n",
            " 5   order_delivered_carrier_date   96455 non-null  object\n",
            " 6   order_delivered_customer_date  96455 non-null  object\n",
            " 7   order_estimated_delivery_date  96455 non-null  object\n",
            "dtypes: object(8)\n",
            "memory usage: 6.6+ MB\n"
          ]
        }
      ]
    },
    {
      "cell_type": "code",
      "source": [
        "customer.info()"
      ],
      "metadata": {
        "colab": {
          "base_uri": "https://localhost:8080/"
        },
        "id": "ZBAxbg9NQ5xz",
        "outputId": "6a1aacc0-63ba-4283-89c0-42e946ca0dab"
      },
      "execution_count": 8,
      "outputs": [
        {
          "output_type": "stream",
          "name": "stdout",
          "text": [
            "<class 'pandas.core.frame.DataFrame'>\n",
            "RangeIndex: 99441 entries, 0 to 99440\n",
            "Data columns (total 5 columns):\n",
            " #   Column                     Non-Null Count  Dtype \n",
            "---  ------                     --------------  ----- \n",
            " 0   customer_id                99441 non-null  object\n",
            " 1   customers_unique_id        99441 non-null  object\n",
            " 2   customers_zip_code_prefix  99441 non-null  int64 \n",
            " 3   customer_city              99441 non-null  object\n",
            " 4   customer_state             99441 non-null  object\n",
            "dtypes: int64(1), object(4)\n",
            "memory usage: 3.8+ MB\n"
          ]
        }
      ]
    },
    {
      "cell_type": "code",
      "source": [
        "review.info()"
      ],
      "metadata": {
        "colab": {
          "base_uri": "https://localhost:8080/"
        },
        "id": "ty9xHgOPU4n8",
        "outputId": "7db0e434-d236-4f86-8342-50709d2b658f"
      },
      "execution_count": 9,
      "outputs": [
        {
          "output_type": "stream",
          "name": "stdout",
          "text": [
            "<class 'pandas.core.frame.DataFrame'>\n",
            "RangeIndex: 99224 entries, 0 to 99223\n",
            "Data columns (total 7 columns):\n",
            " #   Column                   Non-Null Count  Dtype \n",
            "---  ------                   --------------  ----- \n",
            " 0   review_id                99224 non-null  object\n",
            " 1   order_id                 99224 non-null  object\n",
            " 2   review_score             99224 non-null  int64 \n",
            " 3   review_comment_title     11568 non-null  object\n",
            " 4   review_comment_message   40977 non-null  object\n",
            " 5   review_creation_date     99224 non-null  object\n",
            " 6   review_answer_timestamp  99224 non-null  object\n",
            "dtypes: int64(1), object(6)\n",
            "memory usage: 5.3+ MB\n"
          ]
        }
      ]
    },
    {
      "cell_type": "markdown",
      "source": [
        "Terdapat missing value pada kolom review_comment_title dan review_comment_message. Hal ini wajar terjadi karena komentar pada review biasanya bersifat opsional sehingga missing value tidak perlu ditangani."
      ],
      "metadata": {
        "id": "foJO-RSs3xN4"
      }
    },
    {
      "cell_type": "markdown",
      "source": [
        "#### Duplicate"
      ],
      "metadata": {
        "id": "s7KoK7O7U0BY"
      }
    },
    {
      "cell_type": "code",
      "source": [
        "# check duplicate in order table\n",
        "order_delivered[order_delivered.duplicated(subset='order_id')]"
      ],
      "metadata": {
        "colab": {
          "base_uri": "https://localhost:8080/",
          "height": 114
        },
        "id": "UR-yhZw-U3SL",
        "outputId": "723d6c5e-4d11-4cdb-bfe4-3221f35ebee2"
      },
      "execution_count": 10,
      "outputs": [
        {
          "output_type": "execute_result",
          "data": {
            "text/plain": [
              "Empty DataFrame\n",
              "Columns: [order_id, customer_id, order_status, order_purchase_timestamp, order_approved_at, order_delivered_carrier_date, order_delivered_customer_date, order_estimated_delivery_date]\n",
              "Index: []"
            ],
            "text/html": [
              "\n",
              "  <div id=\"df-9340da1a-f007-424f-9941-bc59ce6f8798\">\n",
              "    <div class=\"colab-df-container\">\n",
              "      <div>\n",
              "<style scoped>\n",
              "    .dataframe tbody tr th:only-of-type {\n",
              "        vertical-align: middle;\n",
              "    }\n",
              "\n",
              "    .dataframe tbody tr th {\n",
              "        vertical-align: top;\n",
              "    }\n",
              "\n",
              "    .dataframe thead th {\n",
              "        text-align: right;\n",
              "    }\n",
              "</style>\n",
              "<table border=\"1\" class=\"dataframe\">\n",
              "  <thead>\n",
              "    <tr style=\"text-align: right;\">\n",
              "      <th></th>\n",
              "      <th>order_id</th>\n",
              "      <th>customer_id</th>\n",
              "      <th>order_status</th>\n",
              "      <th>order_purchase_timestamp</th>\n",
              "      <th>order_approved_at</th>\n",
              "      <th>order_delivered_carrier_date</th>\n",
              "      <th>order_delivered_customer_date</th>\n",
              "      <th>order_estimated_delivery_date</th>\n",
              "    </tr>\n",
              "  </thead>\n",
              "  <tbody>\n",
              "  </tbody>\n",
              "</table>\n",
              "</div>\n",
              "      <button class=\"colab-df-convert\" onclick=\"convertToInteractive('df-9340da1a-f007-424f-9941-bc59ce6f8798')\"\n",
              "              title=\"Convert this dataframe to an interactive table.\"\n",
              "              style=\"display:none;\">\n",
              "        \n",
              "  <svg xmlns=\"http://www.w3.org/2000/svg\" height=\"24px\"viewBox=\"0 0 24 24\"\n",
              "       width=\"24px\">\n",
              "    <path d=\"M0 0h24v24H0V0z\" fill=\"none\"/>\n",
              "    <path d=\"M18.56 5.44l.94 2.06.94-2.06 2.06-.94-2.06-.94-.94-2.06-.94 2.06-2.06.94zm-11 1L8.5 8.5l.94-2.06 2.06-.94-2.06-.94L8.5 2.5l-.94 2.06-2.06.94zm10 10l.94 2.06.94-2.06 2.06-.94-2.06-.94-.94-2.06-.94 2.06-2.06.94z\"/><path d=\"M17.41 7.96l-1.37-1.37c-.4-.4-.92-.59-1.43-.59-.52 0-1.04.2-1.43.59L10.3 9.45l-7.72 7.72c-.78.78-.78 2.05 0 2.83L4 21.41c.39.39.9.59 1.41.59.51 0 1.02-.2 1.41-.59l7.78-7.78 2.81-2.81c.8-.78.8-2.07 0-2.86zM5.41 20L4 18.59l7.72-7.72 1.47 1.35L5.41 20z\"/>\n",
              "  </svg>\n",
              "      </button>\n",
              "      \n",
              "  <style>\n",
              "    .colab-df-container {\n",
              "      display:flex;\n",
              "      flex-wrap:wrap;\n",
              "      gap: 12px;\n",
              "    }\n",
              "\n",
              "    .colab-df-convert {\n",
              "      background-color: #E8F0FE;\n",
              "      border: none;\n",
              "      border-radius: 50%;\n",
              "      cursor: pointer;\n",
              "      display: none;\n",
              "      fill: #1967D2;\n",
              "      height: 32px;\n",
              "      padding: 0 0 0 0;\n",
              "      width: 32px;\n",
              "    }\n",
              "\n",
              "    .colab-df-convert:hover {\n",
              "      background-color: #E2EBFA;\n",
              "      box-shadow: 0px 1px 2px rgba(60, 64, 67, 0.3), 0px 1px 3px 1px rgba(60, 64, 67, 0.15);\n",
              "      fill: #174EA6;\n",
              "    }\n",
              "\n",
              "    [theme=dark] .colab-df-convert {\n",
              "      background-color: #3B4455;\n",
              "      fill: #D2E3FC;\n",
              "    }\n",
              "\n",
              "    [theme=dark] .colab-df-convert:hover {\n",
              "      background-color: #434B5C;\n",
              "      box-shadow: 0px 1px 3px 1px rgba(0, 0, 0, 0.15);\n",
              "      filter: drop-shadow(0px 1px 2px rgba(0, 0, 0, 0.3));\n",
              "      fill: #FFFFFF;\n",
              "    }\n",
              "  </style>\n",
              "\n",
              "      <script>\n",
              "        const buttonEl =\n",
              "          document.querySelector('#df-9340da1a-f007-424f-9941-bc59ce6f8798 button.colab-df-convert');\n",
              "        buttonEl.style.display =\n",
              "          google.colab.kernel.accessAllowed ? 'block' : 'none';\n",
              "\n",
              "        async function convertToInteractive(key) {\n",
              "          const element = document.querySelector('#df-9340da1a-f007-424f-9941-bc59ce6f8798');\n",
              "          const dataTable =\n",
              "            await google.colab.kernel.invokeFunction('convertToInteractive',\n",
              "                                                     [key], {});\n",
              "          if (!dataTable) return;\n",
              "\n",
              "          const docLinkHtml = 'Like what you see? Visit the ' +\n",
              "            '<a target=\"_blank\" href=https://colab.research.google.com/notebooks/data_table.ipynb>data table notebook</a>'\n",
              "            + ' to learn more about interactive tables.';\n",
              "          element.innerHTML = '';\n",
              "          dataTable['output_type'] = 'display_data';\n",
              "          await google.colab.output.renderOutput(dataTable, element);\n",
              "          const docLink = document.createElement('div');\n",
              "          docLink.innerHTML = docLinkHtml;\n",
              "          element.appendChild(docLink);\n",
              "        }\n",
              "      </script>\n",
              "    </div>\n",
              "  </div>\n",
              "  "
            ]
          },
          "metadata": {},
          "execution_count": 10
        }
      ]
    },
    {
      "cell_type": "code",
      "source": [
        "# check duplicate in customer table\n",
        "customer[customer.duplicated(subset='customer_id')]"
      ],
      "metadata": {
        "colab": {
          "base_uri": "https://localhost:8080/",
          "height": 50
        },
        "id": "CXlM3eNaVds7",
        "outputId": "daac5e4c-29e7-4bcd-c6a3-fe548a53d3e9"
      },
      "execution_count": 11,
      "outputs": [
        {
          "output_type": "execute_result",
          "data": {
            "text/plain": [
              "Empty DataFrame\n",
              "Columns: [customer_id, customers_unique_id, customers_zip_code_prefix, customer_city, customer_state]\n",
              "Index: []"
            ],
            "text/html": [
              "\n",
              "  <div id=\"df-e111adcf-fbdd-438d-a3e2-a1711fc475e0\">\n",
              "    <div class=\"colab-df-container\">\n",
              "      <div>\n",
              "<style scoped>\n",
              "    .dataframe tbody tr th:only-of-type {\n",
              "        vertical-align: middle;\n",
              "    }\n",
              "\n",
              "    .dataframe tbody tr th {\n",
              "        vertical-align: top;\n",
              "    }\n",
              "\n",
              "    .dataframe thead th {\n",
              "        text-align: right;\n",
              "    }\n",
              "</style>\n",
              "<table border=\"1\" class=\"dataframe\">\n",
              "  <thead>\n",
              "    <tr style=\"text-align: right;\">\n",
              "      <th></th>\n",
              "      <th>customer_id</th>\n",
              "      <th>customers_unique_id</th>\n",
              "      <th>customers_zip_code_prefix</th>\n",
              "      <th>customer_city</th>\n",
              "      <th>customer_state</th>\n",
              "    </tr>\n",
              "  </thead>\n",
              "  <tbody>\n",
              "  </tbody>\n",
              "</table>\n",
              "</div>\n",
              "      <button class=\"colab-df-convert\" onclick=\"convertToInteractive('df-e111adcf-fbdd-438d-a3e2-a1711fc475e0')\"\n",
              "              title=\"Convert this dataframe to an interactive table.\"\n",
              "              style=\"display:none;\">\n",
              "        \n",
              "  <svg xmlns=\"http://www.w3.org/2000/svg\" height=\"24px\"viewBox=\"0 0 24 24\"\n",
              "       width=\"24px\">\n",
              "    <path d=\"M0 0h24v24H0V0z\" fill=\"none\"/>\n",
              "    <path d=\"M18.56 5.44l.94 2.06.94-2.06 2.06-.94-2.06-.94-.94-2.06-.94 2.06-2.06.94zm-11 1L8.5 8.5l.94-2.06 2.06-.94-2.06-.94L8.5 2.5l-.94 2.06-2.06.94zm10 10l.94 2.06.94-2.06 2.06-.94-2.06-.94-.94-2.06-.94 2.06-2.06.94z\"/><path d=\"M17.41 7.96l-1.37-1.37c-.4-.4-.92-.59-1.43-.59-.52 0-1.04.2-1.43.59L10.3 9.45l-7.72 7.72c-.78.78-.78 2.05 0 2.83L4 21.41c.39.39.9.59 1.41.59.51 0 1.02-.2 1.41-.59l7.78-7.78 2.81-2.81c.8-.78.8-2.07 0-2.86zM5.41 20L4 18.59l7.72-7.72 1.47 1.35L5.41 20z\"/>\n",
              "  </svg>\n",
              "      </button>\n",
              "      \n",
              "  <style>\n",
              "    .colab-df-container {\n",
              "      display:flex;\n",
              "      flex-wrap:wrap;\n",
              "      gap: 12px;\n",
              "    }\n",
              "\n",
              "    .colab-df-convert {\n",
              "      background-color: #E8F0FE;\n",
              "      border: none;\n",
              "      border-radius: 50%;\n",
              "      cursor: pointer;\n",
              "      display: none;\n",
              "      fill: #1967D2;\n",
              "      height: 32px;\n",
              "      padding: 0 0 0 0;\n",
              "      width: 32px;\n",
              "    }\n",
              "\n",
              "    .colab-df-convert:hover {\n",
              "      background-color: #E2EBFA;\n",
              "      box-shadow: 0px 1px 2px rgba(60, 64, 67, 0.3), 0px 1px 3px 1px rgba(60, 64, 67, 0.15);\n",
              "      fill: #174EA6;\n",
              "    }\n",
              "\n",
              "    [theme=dark] .colab-df-convert {\n",
              "      background-color: #3B4455;\n",
              "      fill: #D2E3FC;\n",
              "    }\n",
              "\n",
              "    [theme=dark] .colab-df-convert:hover {\n",
              "      background-color: #434B5C;\n",
              "      box-shadow: 0px 1px 3px 1px rgba(0, 0, 0, 0.15);\n",
              "      filter: drop-shadow(0px 1px 2px rgba(0, 0, 0, 0.3));\n",
              "      fill: #FFFFFF;\n",
              "    }\n",
              "  </style>\n",
              "\n",
              "      <script>\n",
              "        const buttonEl =\n",
              "          document.querySelector('#df-e111adcf-fbdd-438d-a3e2-a1711fc475e0 button.colab-df-convert');\n",
              "        buttonEl.style.display =\n",
              "          google.colab.kernel.accessAllowed ? 'block' : 'none';\n",
              "\n",
              "        async function convertToInteractive(key) {\n",
              "          const element = document.querySelector('#df-e111adcf-fbdd-438d-a3e2-a1711fc475e0');\n",
              "          const dataTable =\n",
              "            await google.colab.kernel.invokeFunction('convertToInteractive',\n",
              "                                                     [key], {});\n",
              "          if (!dataTable) return;\n",
              "\n",
              "          const docLinkHtml = 'Like what you see? Visit the ' +\n",
              "            '<a target=\"_blank\" href=https://colab.research.google.com/notebooks/data_table.ipynb>data table notebook</a>'\n",
              "            + ' to learn more about interactive tables.';\n",
              "          element.innerHTML = '';\n",
              "          dataTable['output_type'] = 'display_data';\n",
              "          await google.colab.output.renderOutput(dataTable, element);\n",
              "          const docLink = document.createElement('div');\n",
              "          docLink.innerHTML = docLinkHtml;\n",
              "          element.appendChild(docLink);\n",
              "        }\n",
              "      </script>\n",
              "    </div>\n",
              "  </div>\n",
              "  "
            ]
          },
          "metadata": {},
          "execution_count": 11
        }
      ]
    },
    {
      "cell_type": "code",
      "source": [
        "# check duplicate in review table\n",
        "review[review.duplicated(subset='order_id')]"
      ],
      "metadata": {
        "colab": {
          "base_uri": "https://localhost:8080/",
          "height": 575
        },
        "id": "VrcO-YvnVmIV",
        "outputId": "87e0269b-9b5e-4ea9-bcb4-9d766cd3c2c1"
      },
      "execution_count": 12,
      "outputs": [
        {
          "output_type": "execute_result",
          "data": {
            "text/plain": [
              "                              review_id                          order_id  \\\n",
              "1119   46abf3ea0b2710ad41390fdb79c32d84  5040757d4e06a4be96d3827b860b4e7c   \n",
              "3109   aa193e76d35950c4ae988237bb36ed2b  cf73e2cb1f4a9480ed70c154da3d954a   \n",
              "8108   40294ea5a778dc62080d6b3f55d361ce  e1bc1083cd7acd30d0576335373b907d   \n",
              "9064   32e2c7e889f7a185d462265398ee3631  c7cfea0c153e6382e32e84c2a9dd7d2e   \n",
              "9795   95a3135743556b117d888cc8c6e12e11  f9c78e6e58306dc81efbbada1ac11f24   \n",
              "...                                 ...                               ...   \n",
              "98989  dfb3db02188d809d5cd199496b6da87e  c0db7d31ace61fc360a3eaa34dd3457c   \n",
              "99108  2c6c08892b83ba4c1be33037c2842294  42ae1967f68c90bb325783ac55d761ce   \n",
              "99164  2afe63a67dfd99b3038f568fb47ee761  c5334d330e36d2a810a7a13c72e135ee   \n",
              "99178  44d1e9165ec54b1d89d33594856af859  a7dbcf5043158d6fa72859eead2f3d10   \n",
              "99199  40743b46a0ee86375cedb95e82b78d75  3e93213bb8fdda91186b4018b2fe0030   \n",
              "\n",
              "       review_score review_comment_title  \\\n",
              "1119              5                 None   \n",
              "3109              5                 None   \n",
              "8108              5                 None   \n",
              "9064              5                 None   \n",
              "9795              3                 None   \n",
              "...             ...                  ...   \n",
              "98989             5                 None   \n",
              "99108             4                 None   \n",
              "99164             5                 None   \n",
              "99178             4                 None   \n",
              "99199             5      OTIMA EMBALAGEM   \n",
              "\n",
              "                                  review_comment_message review_creation_date  \\\n",
              "1119                                                None  2017-11-07 00:00:00   \n",
              "3109                                                None  2018-01-18 00:00:00   \n",
              "8108                                                None  2018-03-23 00:00:00   \n",
              "9064                                                None  2017-10-21 00:00:00   \n",
              "9795   O produto chegou antes do prazo mas recebi um ...  2017-09-14 00:00:00   \n",
              "...                                                  ...                  ...   \n",
              "98989                                               None  2018-02-17 00:00:00   \n",
              "99108  Chegou um pouco amassada, mas nada de mais, e ...  2017-07-03 00:00:00   \n",
              "99164  Muito bom, produto conforme anunciado, entrega...  2018-03-03 00:00:00   \n",
              "99178                                               None  2017-05-24 00:00:00   \n",
              "99199                                               None  2018-08-08 00:00:00   \n",
              "\n",
              "      review_answer_timestamp  \n",
              "1119      2017-11-10 20:07:48  \n",
              "3109      2018-01-18 17:36:45  \n",
              "8108      2018-03-24 00:23:06  \n",
              "9064      2017-10-22 00:47:25  \n",
              "9795      2017-09-17 11:14:08  \n",
              "...                       ...  \n",
              "98989     2018-02-19 19:29:19  \n",
              "99108     2017-07-05 19:06:59  \n",
              "99164     2018-03-04 22:56:47  \n",
              "99178     2017-05-24 23:15:21  \n",
              "99199     2018-08-08 16:56:16  \n",
              "\n",
              "[551 rows x 7 columns]"
            ],
            "text/html": [
              "\n",
              "  <div id=\"df-45b04564-ff8d-4911-91a6-16c78952e027\">\n",
              "    <div class=\"colab-df-container\">\n",
              "      <div>\n",
              "<style scoped>\n",
              "    .dataframe tbody tr th:only-of-type {\n",
              "        vertical-align: middle;\n",
              "    }\n",
              "\n",
              "    .dataframe tbody tr th {\n",
              "        vertical-align: top;\n",
              "    }\n",
              "\n",
              "    .dataframe thead th {\n",
              "        text-align: right;\n",
              "    }\n",
              "</style>\n",
              "<table border=\"1\" class=\"dataframe\">\n",
              "  <thead>\n",
              "    <tr style=\"text-align: right;\">\n",
              "      <th></th>\n",
              "      <th>review_id</th>\n",
              "      <th>order_id</th>\n",
              "      <th>review_score</th>\n",
              "      <th>review_comment_title</th>\n",
              "      <th>review_comment_message</th>\n",
              "      <th>review_creation_date</th>\n",
              "      <th>review_answer_timestamp</th>\n",
              "    </tr>\n",
              "  </thead>\n",
              "  <tbody>\n",
              "    <tr>\n",
              "      <th>1119</th>\n",
              "      <td>46abf3ea0b2710ad41390fdb79c32d84</td>\n",
              "      <td>5040757d4e06a4be96d3827b860b4e7c</td>\n",
              "      <td>5</td>\n",
              "      <td>None</td>\n",
              "      <td>None</td>\n",
              "      <td>2017-11-07 00:00:00</td>\n",
              "      <td>2017-11-10 20:07:48</td>\n",
              "    </tr>\n",
              "    <tr>\n",
              "      <th>3109</th>\n",
              "      <td>aa193e76d35950c4ae988237bb36ed2b</td>\n",
              "      <td>cf73e2cb1f4a9480ed70c154da3d954a</td>\n",
              "      <td>5</td>\n",
              "      <td>None</td>\n",
              "      <td>None</td>\n",
              "      <td>2018-01-18 00:00:00</td>\n",
              "      <td>2018-01-18 17:36:45</td>\n",
              "    </tr>\n",
              "    <tr>\n",
              "      <th>8108</th>\n",
              "      <td>40294ea5a778dc62080d6b3f55d361ce</td>\n",
              "      <td>e1bc1083cd7acd30d0576335373b907d</td>\n",
              "      <td>5</td>\n",
              "      <td>None</td>\n",
              "      <td>None</td>\n",
              "      <td>2018-03-23 00:00:00</td>\n",
              "      <td>2018-03-24 00:23:06</td>\n",
              "    </tr>\n",
              "    <tr>\n",
              "      <th>9064</th>\n",
              "      <td>32e2c7e889f7a185d462265398ee3631</td>\n",
              "      <td>c7cfea0c153e6382e32e84c2a9dd7d2e</td>\n",
              "      <td>5</td>\n",
              "      <td>None</td>\n",
              "      <td>None</td>\n",
              "      <td>2017-10-21 00:00:00</td>\n",
              "      <td>2017-10-22 00:47:25</td>\n",
              "    </tr>\n",
              "    <tr>\n",
              "      <th>9795</th>\n",
              "      <td>95a3135743556b117d888cc8c6e12e11</td>\n",
              "      <td>f9c78e6e58306dc81efbbada1ac11f24</td>\n",
              "      <td>3</td>\n",
              "      <td>None</td>\n",
              "      <td>O produto chegou antes do prazo mas recebi um ...</td>\n",
              "      <td>2017-09-14 00:00:00</td>\n",
              "      <td>2017-09-17 11:14:08</td>\n",
              "    </tr>\n",
              "    <tr>\n",
              "      <th>...</th>\n",
              "      <td>...</td>\n",
              "      <td>...</td>\n",
              "      <td>...</td>\n",
              "      <td>...</td>\n",
              "      <td>...</td>\n",
              "      <td>...</td>\n",
              "      <td>...</td>\n",
              "    </tr>\n",
              "    <tr>\n",
              "      <th>98989</th>\n",
              "      <td>dfb3db02188d809d5cd199496b6da87e</td>\n",
              "      <td>c0db7d31ace61fc360a3eaa34dd3457c</td>\n",
              "      <td>5</td>\n",
              "      <td>None</td>\n",
              "      <td>None</td>\n",
              "      <td>2018-02-17 00:00:00</td>\n",
              "      <td>2018-02-19 19:29:19</td>\n",
              "    </tr>\n",
              "    <tr>\n",
              "      <th>99108</th>\n",
              "      <td>2c6c08892b83ba4c1be33037c2842294</td>\n",
              "      <td>42ae1967f68c90bb325783ac55d761ce</td>\n",
              "      <td>4</td>\n",
              "      <td>None</td>\n",
              "      <td>Chegou um pouco amassada, mas nada de mais, e ...</td>\n",
              "      <td>2017-07-03 00:00:00</td>\n",
              "      <td>2017-07-05 19:06:59</td>\n",
              "    </tr>\n",
              "    <tr>\n",
              "      <th>99164</th>\n",
              "      <td>2afe63a67dfd99b3038f568fb47ee761</td>\n",
              "      <td>c5334d330e36d2a810a7a13c72e135ee</td>\n",
              "      <td>5</td>\n",
              "      <td>None</td>\n",
              "      <td>Muito bom, produto conforme anunciado, entrega...</td>\n",
              "      <td>2018-03-03 00:00:00</td>\n",
              "      <td>2018-03-04 22:56:47</td>\n",
              "    </tr>\n",
              "    <tr>\n",
              "      <th>99178</th>\n",
              "      <td>44d1e9165ec54b1d89d33594856af859</td>\n",
              "      <td>a7dbcf5043158d6fa72859eead2f3d10</td>\n",
              "      <td>4</td>\n",
              "      <td>None</td>\n",
              "      <td>None</td>\n",
              "      <td>2017-05-24 00:00:00</td>\n",
              "      <td>2017-05-24 23:15:21</td>\n",
              "    </tr>\n",
              "    <tr>\n",
              "      <th>99199</th>\n",
              "      <td>40743b46a0ee86375cedb95e82b78d75</td>\n",
              "      <td>3e93213bb8fdda91186b4018b2fe0030</td>\n",
              "      <td>5</td>\n",
              "      <td>OTIMA EMBALAGEM</td>\n",
              "      <td>None</td>\n",
              "      <td>2018-08-08 00:00:00</td>\n",
              "      <td>2018-08-08 16:56:16</td>\n",
              "    </tr>\n",
              "  </tbody>\n",
              "</table>\n",
              "<p>551 rows × 7 columns</p>\n",
              "</div>\n",
              "      <button class=\"colab-df-convert\" onclick=\"convertToInteractive('df-45b04564-ff8d-4911-91a6-16c78952e027')\"\n",
              "              title=\"Convert this dataframe to an interactive table.\"\n",
              "              style=\"display:none;\">\n",
              "        \n",
              "  <svg xmlns=\"http://www.w3.org/2000/svg\" height=\"24px\"viewBox=\"0 0 24 24\"\n",
              "       width=\"24px\">\n",
              "    <path d=\"M0 0h24v24H0V0z\" fill=\"none\"/>\n",
              "    <path d=\"M18.56 5.44l.94 2.06.94-2.06 2.06-.94-2.06-.94-.94-2.06-.94 2.06-2.06.94zm-11 1L8.5 8.5l.94-2.06 2.06-.94-2.06-.94L8.5 2.5l-.94 2.06-2.06.94zm10 10l.94 2.06.94-2.06 2.06-.94-2.06-.94-.94-2.06-.94 2.06-2.06.94z\"/><path d=\"M17.41 7.96l-1.37-1.37c-.4-.4-.92-.59-1.43-.59-.52 0-1.04.2-1.43.59L10.3 9.45l-7.72 7.72c-.78.78-.78 2.05 0 2.83L4 21.41c.39.39.9.59 1.41.59.51 0 1.02-.2 1.41-.59l7.78-7.78 2.81-2.81c.8-.78.8-2.07 0-2.86zM5.41 20L4 18.59l7.72-7.72 1.47 1.35L5.41 20z\"/>\n",
              "  </svg>\n",
              "      </button>\n",
              "      \n",
              "  <style>\n",
              "    .colab-df-container {\n",
              "      display:flex;\n",
              "      flex-wrap:wrap;\n",
              "      gap: 12px;\n",
              "    }\n",
              "\n",
              "    .colab-df-convert {\n",
              "      background-color: #E8F0FE;\n",
              "      border: none;\n",
              "      border-radius: 50%;\n",
              "      cursor: pointer;\n",
              "      display: none;\n",
              "      fill: #1967D2;\n",
              "      height: 32px;\n",
              "      padding: 0 0 0 0;\n",
              "      width: 32px;\n",
              "    }\n",
              "\n",
              "    .colab-df-convert:hover {\n",
              "      background-color: #E2EBFA;\n",
              "      box-shadow: 0px 1px 2px rgba(60, 64, 67, 0.3), 0px 1px 3px 1px rgba(60, 64, 67, 0.15);\n",
              "      fill: #174EA6;\n",
              "    }\n",
              "\n",
              "    [theme=dark] .colab-df-convert {\n",
              "      background-color: #3B4455;\n",
              "      fill: #D2E3FC;\n",
              "    }\n",
              "\n",
              "    [theme=dark] .colab-df-convert:hover {\n",
              "      background-color: #434B5C;\n",
              "      box-shadow: 0px 1px 3px 1px rgba(0, 0, 0, 0.15);\n",
              "      filter: drop-shadow(0px 1px 2px rgba(0, 0, 0, 0.3));\n",
              "      fill: #FFFFFF;\n",
              "    }\n",
              "  </style>\n",
              "\n",
              "      <script>\n",
              "        const buttonEl =\n",
              "          document.querySelector('#df-45b04564-ff8d-4911-91a6-16c78952e027 button.colab-df-convert');\n",
              "        buttonEl.style.display =\n",
              "          google.colab.kernel.accessAllowed ? 'block' : 'none';\n",
              "\n",
              "        async function convertToInteractive(key) {\n",
              "          const element = document.querySelector('#df-45b04564-ff8d-4911-91a6-16c78952e027');\n",
              "          const dataTable =\n",
              "            await google.colab.kernel.invokeFunction('convertToInteractive',\n",
              "                                                     [key], {});\n",
              "          if (!dataTable) return;\n",
              "\n",
              "          const docLinkHtml = 'Like what you see? Visit the ' +\n",
              "            '<a target=\"_blank\" href=https://colab.research.google.com/notebooks/data_table.ipynb>data table notebook</a>'\n",
              "            + ' to learn more about interactive tables.';\n",
              "          element.innerHTML = '';\n",
              "          dataTable['output_type'] = 'display_data';\n",
              "          await google.colab.output.renderOutput(dataTable, element);\n",
              "          const docLink = document.createElement('div');\n",
              "          docLink.innerHTML = docLinkHtml;\n",
              "          element.appendChild(docLink);\n",
              "        }\n",
              "      </script>\n",
              "    </div>\n",
              "  </div>\n",
              "  "
            ]
          },
          "metadata": {},
          "execution_count": 12
        }
      ]
    },
    {
      "cell_type": "markdown",
      "source": [
        "Terdapat duplicate pada data review"
      ],
      "metadata": {
        "id": "VxtIsAm64X7H"
      }
    },
    {
      "cell_type": "code",
      "source": [
        "# check an order_id\n",
        "review[review.order_id=='5040757d4e06a4be96d3827b860b4e7c']"
      ],
      "metadata": {
        "colab": {
          "base_uri": "https://localhost:8080/",
          "height": 176
        },
        "id": "GjQGRHUO4W4w",
        "outputId": "7cd60e7f-0c63-4085-8b33-9d2dc1e346b4"
      },
      "execution_count": 13,
      "outputs": [
        {
          "output_type": "execute_result",
          "data": {
            "text/plain": [
              "                             review_id                          order_id  \\\n",
              "1028  afd9b3d196f0acd81d79d8ccd79c2430  5040757d4e06a4be96d3827b860b4e7c   \n",
              "1119  46abf3ea0b2710ad41390fdb79c32d84  5040757d4e06a4be96d3827b860b4e7c   \n",
              "\n",
              "      review_score review_comment_title review_comment_message  \\\n",
              "1028             5                 None                   None   \n",
              "1119             5                 None                   None   \n",
              "\n",
              "     review_creation_date review_answer_timestamp  \n",
              "1028  2017-10-31 00:00:00     2017-11-04 21:12:29  \n",
              "1119  2017-11-07 00:00:00     2017-11-10 20:07:48  "
            ],
            "text/html": [
              "\n",
              "  <div id=\"df-ab372282-55f9-4df4-88ae-af9c3ff6f78d\">\n",
              "    <div class=\"colab-df-container\">\n",
              "      <div>\n",
              "<style scoped>\n",
              "    .dataframe tbody tr th:only-of-type {\n",
              "        vertical-align: middle;\n",
              "    }\n",
              "\n",
              "    .dataframe tbody tr th {\n",
              "        vertical-align: top;\n",
              "    }\n",
              "\n",
              "    .dataframe thead th {\n",
              "        text-align: right;\n",
              "    }\n",
              "</style>\n",
              "<table border=\"1\" class=\"dataframe\">\n",
              "  <thead>\n",
              "    <tr style=\"text-align: right;\">\n",
              "      <th></th>\n",
              "      <th>review_id</th>\n",
              "      <th>order_id</th>\n",
              "      <th>review_score</th>\n",
              "      <th>review_comment_title</th>\n",
              "      <th>review_comment_message</th>\n",
              "      <th>review_creation_date</th>\n",
              "      <th>review_answer_timestamp</th>\n",
              "    </tr>\n",
              "  </thead>\n",
              "  <tbody>\n",
              "    <tr>\n",
              "      <th>1028</th>\n",
              "      <td>afd9b3d196f0acd81d79d8ccd79c2430</td>\n",
              "      <td>5040757d4e06a4be96d3827b860b4e7c</td>\n",
              "      <td>5</td>\n",
              "      <td>None</td>\n",
              "      <td>None</td>\n",
              "      <td>2017-10-31 00:00:00</td>\n",
              "      <td>2017-11-04 21:12:29</td>\n",
              "    </tr>\n",
              "    <tr>\n",
              "      <th>1119</th>\n",
              "      <td>46abf3ea0b2710ad41390fdb79c32d84</td>\n",
              "      <td>5040757d4e06a4be96d3827b860b4e7c</td>\n",
              "      <td>5</td>\n",
              "      <td>None</td>\n",
              "      <td>None</td>\n",
              "      <td>2017-11-07 00:00:00</td>\n",
              "      <td>2017-11-10 20:07:48</td>\n",
              "    </tr>\n",
              "  </tbody>\n",
              "</table>\n",
              "</div>\n",
              "      <button class=\"colab-df-convert\" onclick=\"convertToInteractive('df-ab372282-55f9-4df4-88ae-af9c3ff6f78d')\"\n",
              "              title=\"Convert this dataframe to an interactive table.\"\n",
              "              style=\"display:none;\">\n",
              "        \n",
              "  <svg xmlns=\"http://www.w3.org/2000/svg\" height=\"24px\"viewBox=\"0 0 24 24\"\n",
              "       width=\"24px\">\n",
              "    <path d=\"M0 0h24v24H0V0z\" fill=\"none\"/>\n",
              "    <path d=\"M18.56 5.44l.94 2.06.94-2.06 2.06-.94-2.06-.94-.94-2.06-.94 2.06-2.06.94zm-11 1L8.5 8.5l.94-2.06 2.06-.94-2.06-.94L8.5 2.5l-.94 2.06-2.06.94zm10 10l.94 2.06.94-2.06 2.06-.94-2.06-.94-.94-2.06-.94 2.06-2.06.94z\"/><path d=\"M17.41 7.96l-1.37-1.37c-.4-.4-.92-.59-1.43-.59-.52 0-1.04.2-1.43.59L10.3 9.45l-7.72 7.72c-.78.78-.78 2.05 0 2.83L4 21.41c.39.39.9.59 1.41.59.51 0 1.02-.2 1.41-.59l7.78-7.78 2.81-2.81c.8-.78.8-2.07 0-2.86zM5.41 20L4 18.59l7.72-7.72 1.47 1.35L5.41 20z\"/>\n",
              "  </svg>\n",
              "      </button>\n",
              "      \n",
              "  <style>\n",
              "    .colab-df-container {\n",
              "      display:flex;\n",
              "      flex-wrap:wrap;\n",
              "      gap: 12px;\n",
              "    }\n",
              "\n",
              "    .colab-df-convert {\n",
              "      background-color: #E8F0FE;\n",
              "      border: none;\n",
              "      border-radius: 50%;\n",
              "      cursor: pointer;\n",
              "      display: none;\n",
              "      fill: #1967D2;\n",
              "      height: 32px;\n",
              "      padding: 0 0 0 0;\n",
              "      width: 32px;\n",
              "    }\n",
              "\n",
              "    .colab-df-convert:hover {\n",
              "      background-color: #E2EBFA;\n",
              "      box-shadow: 0px 1px 2px rgba(60, 64, 67, 0.3), 0px 1px 3px 1px rgba(60, 64, 67, 0.15);\n",
              "      fill: #174EA6;\n",
              "    }\n",
              "\n",
              "    [theme=dark] .colab-df-convert {\n",
              "      background-color: #3B4455;\n",
              "      fill: #D2E3FC;\n",
              "    }\n",
              "\n",
              "    [theme=dark] .colab-df-convert:hover {\n",
              "      background-color: #434B5C;\n",
              "      box-shadow: 0px 1px 3px 1px rgba(0, 0, 0, 0.15);\n",
              "      filter: drop-shadow(0px 1px 2px rgba(0, 0, 0, 0.3));\n",
              "      fill: #FFFFFF;\n",
              "    }\n",
              "  </style>\n",
              "\n",
              "      <script>\n",
              "        const buttonEl =\n",
              "          document.querySelector('#df-ab372282-55f9-4df4-88ae-af9c3ff6f78d button.colab-df-convert');\n",
              "        buttonEl.style.display =\n",
              "          google.colab.kernel.accessAllowed ? 'block' : 'none';\n",
              "\n",
              "        async function convertToInteractive(key) {\n",
              "          const element = document.querySelector('#df-ab372282-55f9-4df4-88ae-af9c3ff6f78d');\n",
              "          const dataTable =\n",
              "            await google.colab.kernel.invokeFunction('convertToInteractive',\n",
              "                                                     [key], {});\n",
              "          if (!dataTable) return;\n",
              "\n",
              "          const docLinkHtml = 'Like what you see? Visit the ' +\n",
              "            '<a target=\"_blank\" href=https://colab.research.google.com/notebooks/data_table.ipynb>data table notebook</a>'\n",
              "            + ' to learn more about interactive tables.';\n",
              "          element.innerHTML = '';\n",
              "          dataTable['output_type'] = 'display_data';\n",
              "          await google.colab.output.renderOutput(dataTable, element);\n",
              "          const docLink = document.createElement('div');\n",
              "          docLink.innerHTML = docLinkHtml;\n",
              "          element.appendChild(docLink);\n",
              "        }\n",
              "      </script>\n",
              "    </div>\n",
              "  </div>\n",
              "  "
            ]
          },
          "metadata": {},
          "execution_count": 13
        }
      ]
    },
    {
      "cell_type": "markdown",
      "source": [
        "Duplikasi terjadi karena survei kepuasan dikirimkan dua kali. Untuk menanganinnya akan diambil review dengan jawaban terakhir."
      ],
      "metadata": {
        "id": "TOXbWwsE4x43"
      }
    },
    {
      "cell_type": "code",
      "source": [
        "# remove duplicate in review table\n",
        "review = review.sort_values('review_answer_timestamp').drop_duplicates(subset='order_id', keep='last')"
      ],
      "metadata": {
        "id": "wBUXndx-VvxB"
      },
      "execution_count": 14,
      "outputs": []
    },
    {
      "cell_type": "markdown",
      "source": [
        "#### join data"
      ],
      "metadata": {
        "id": "bZ6Me9MXY75m"
      }
    },
    {
      "cell_type": "code",
      "source": [
        "# join order, customer, and review table\n",
        "order_customer = order_delivered.merge(customer, left_on='customer_id', right_on='customer_id', how='left')\n",
        "df = order_customer.merge(review, left_on='order_id', right_on='order_id', how='left')\n",
        "\n",
        "# filter columns that will be used\n",
        "df = df[['order_id','customer_id','order_status','order_purchase_timestamp','order_delivered_customer_date','order_estimated_delivery_date','customers_unique_id','customer_city','customer_state','review_score']]"
      ],
      "metadata": {
        "id": "xguhSuO3ZBS1"
      },
      "execution_count": 15,
      "outputs": []
    },
    {
      "cell_type": "code",
      "source": [
        "df.info()"
      ],
      "metadata": {
        "colab": {
          "base_uri": "https://localhost:8080/"
        },
        "id": "22bJfC_kZ1fK",
        "outputId": "510da3f1-635c-4b58-9a4e-c1843b825bf1"
      },
      "execution_count": 16,
      "outputs": [
        {
          "output_type": "stream",
          "name": "stdout",
          "text": [
            "<class 'pandas.core.frame.DataFrame'>\n",
            "Int64Index: 96455 entries, 0 to 96454\n",
            "Data columns (total 10 columns):\n",
            " #   Column                         Non-Null Count  Dtype  \n",
            "---  ------                         --------------  -----  \n",
            " 0   order_id                       96455 non-null  object \n",
            " 1   customer_id                    96455 non-null  object \n",
            " 2   order_status                   96455 non-null  object \n",
            " 3   order_purchase_timestamp       96455 non-null  object \n",
            " 4   order_delivered_customer_date  96455 non-null  object \n",
            " 5   order_estimated_delivery_date  96455 non-null  object \n",
            " 6   customers_unique_id            96455 non-null  object \n",
            " 7   customer_city                  96455 non-null  object \n",
            " 8   customer_state                 96455 non-null  object \n",
            " 9   review_score                   95809 non-null  float64\n",
            "dtypes: float64(1), object(9)\n",
            "memory usage: 8.1+ MB\n"
          ]
        }
      ]
    },
    {
      "cell_type": "markdown",
      "source": [
        "### Analysis"
      ],
      "metadata": {
        "id": "yOEuCJiTK_Td"
      }
    },
    {
      "cell_type": "markdown",
      "source": [
        "#### Kota dengan transaksi terbanyak"
      ],
      "metadata": {
        "id": "5KsMW6uqLBwR"
      }
    },
    {
      "cell_type": "code",
      "source": [
        "# calculate top 10 city with the most transaction\n",
        "num_order_city = df.groupby('customer_city')['order_id'].nunique().sort_values(ascending=False).head(10).reset_index()"
      ],
      "metadata": {
        "id": "Gz56vlZPcFpY"
      },
      "execution_count": 17,
      "outputs": []
    },
    {
      "cell_type": "code",
      "source": [
        "sns.barplot(data=num_order_city, x='customer_city', y='order_id', color='blue')\n",
        "plt.xlabel('city')\n",
        "plt.ylabel('number of order')\n",
        "plt.title('Total Delivery')\n",
        "plt.xticks(rotation=90)\n",
        "plt.show()"
      ],
      "metadata": {
        "colab": {
          "base_uri": "https://localhost:8080/",
          "height": 623
        },
        "id": "S_cOxphP52gx",
        "outputId": "d7dfb50e-50c2-40c8-c0be-37f25e948e0e"
      },
      "execution_count": 18,
      "outputs": [
        {
          "output_type": "display_data",
          "data": {
            "text/plain": [
              "<Figure size 640x480 with 1 Axes>"
            ],
            "image/png": "[encoded data removed]"
          },
          "metadata": {}
        }
      ]
    },
    {
      "cell_type": "markdown",
      "source": [
        "Transaksi di dominasi oleh kota sao paulo. Bahkan total transaksi di kota sao paulo lebih dari 2 kali rio de janeiro yang merupakan kota kedua dengan transaksi paling banyak."
      ],
      "metadata": {
        "id": "wIT-k7WYLRl4"
      }
    },
    {
      "cell_type": "markdown",
      "source": [
        "#### Kota dengan transaksi yang dikirimkan terlambat paling banyak"
      ],
      "metadata": {
        "id": "NlAL_5NjLypJ"
      }
    },
    {
      "cell_type": "code",
      "source": [
        "# calculate top 10 city with the most late delivered transaction\n",
        "df['is_late']=df.order_estimated_delivery_date<df.order_delivered_customer_date\n",
        "df_late = df[df.is_late]\n",
        "num_order_late_delivery = df_late.groupby('customer_city')['order_id'].nunique().sort_values(ascending=False).head(10).reset_index()"
      ],
      "metadata": {
        "id": "ZS-KkeO8dFeZ"
      },
      "execution_count": 19,
      "outputs": []
    },
    {
      "cell_type": "code",
      "source": [
        "sns.barplot(data=num_order_late_delivery, x='customer_city', y='order_id', color='blue')\n",
        "plt.xlabel('city')\n",
        "plt.ylabel('number of order')\n",
        "plt.title('Total Late Delivery')\n",
        "plt.xticks(rotation=90)\n",
        "plt.show()"
      ],
      "metadata": {
        "colab": {
          "base_uri": "https://localhost:8080/",
          "height": 557
        },
        "id": "FDsWkLMHgI58",
        "outputId": "54bcc718-a1f2-4dd7-8005-3cbd978d03fd"
      },
      "execution_count": 20,
      "outputs": [
        {
          "output_type": "display_data",
          "data": {
            "text/plain": [
              "<Figure size 640x480 with 1 Axes>"
            ],
            "image/png": "[encoded data removed]"
          },
          "metadata": {}
        }
      ]
    },
    {
      "cell_type": "markdown",
      "source": [
        "kota sao paulo dan rio de janeiro memiliki total pengiriman terlambat paling banyak. Hal ini sejalan dengan total transaksi yang ada pada kota tersebut."
      ],
      "metadata": {
        "id": "JvPKm7p9MbV1"
      }
    },
    {
      "cell_type": "markdown",
      "source": [
        "#### Perngaruh keterlambatan pengiriman dengan review"
      ],
      "metadata": {
        "id": "i5qXlj9EMu8L"
      }
    },
    {
      "cell_type": "code",
      "source": [
        "# calculate the comparison of late delivery and review_score\n",
        "late_vs_review=pd.crosstab(df.is_late,df.review_score)\n",
        "# calculate the percentage\n",
        "late_vs_review_pct = late_vs_review.div(late_vs_review.sum(axis=1),axis=0)\n",
        "late_vs_review_pct"
      ],
      "metadata": {
        "colab": {
          "base_uri": "https://localhost:8080/",
          "height": 144
        },
        "id": "QAtBFP9anWbE",
        "outputId": "f4307c8e-3b0a-4cc6-c781-511b52e6b83f"
      },
      "execution_count": 21,
      "outputs": [
        {
          "output_type": "execute_result",
          "data": {
            "text/plain": [
              "review_score       1.0       2.0       3.0       4.0       5.0\n",
              "is_late                                                       \n",
              "False         0.065922  0.026296  0.079899  0.203519  0.624363\n",
              "True          0.462141  0.078590  0.113838  0.123238  0.222193"
            ],
            "text/html": [
              "\n",
              "  <div id=\"df-d3bbf957-f43b-4118-a351-7eee30d24afe\">\n",
              "    <div class=\"colab-df-container\">\n",
              "      <div>\n",
              "<style scoped>\n",
              "    .dataframe tbody tr th:only-of-type {\n",
              "        vertical-align: middle;\n",
              "    }\n",
              "\n",
              "    .dataframe tbody tr th {\n",
              "        vertical-align: top;\n",
              "    }\n",
              "\n",
              "    .dataframe thead th {\n",
              "        text-align: right;\n",
              "    }\n",
              "</style>\n",
              "<table border=\"1\" class=\"dataframe\">\n",
              "  <thead>\n",
              "    <tr style=\"text-align: right;\">\n",
              "      <th>review_score</th>\n",
              "      <th>1.0</th>\n",
              "      <th>2.0</th>\n",
              "      <th>3.0</th>\n",
              "      <th>4.0</th>\n",
              "      <th>5.0</th>\n",
              "    </tr>\n",
              "    <tr>\n",
              "      <th>is_late</th>\n",
              "      <th></th>\n",
              "      <th></th>\n",
              "      <th></th>\n",
              "      <th></th>\n",
              "      <th></th>\n",
              "    </tr>\n",
              "  </thead>\n",
              "  <tbody>\n",
              "    <tr>\n",
              "      <th>False</th>\n",
              "      <td>0.065922</td>\n",
              "      <td>0.026296</td>\n",
              "      <td>0.079899</td>\n",
              "      <td>0.203519</td>\n",
              "      <td>0.624363</td>\n",
              "    </tr>\n",
              "    <tr>\n",
              "      <th>True</th>\n",
              "      <td>0.462141</td>\n",
              "      <td>0.078590</td>\n",
              "      <td>0.113838</td>\n",
              "      <td>0.123238</td>\n",
              "      <td>0.222193</td>\n",
              "    </tr>\n",
              "  </tbody>\n",
              "</table>\n",
              "</div>\n",
              "      <button class=\"colab-df-convert\" onclick=\"convertToInteractive('df-d3bbf957-f43b-4118-a351-7eee30d24afe')\"\n",
              "              title=\"Convert this dataframe to an interactive table.\"\n",
              "              style=\"display:none;\">\n",
              "        \n",
              "  <svg xmlns=\"http://www.w3.org/2000/svg\" height=\"24px\"viewBox=\"0 0 24 24\"\n",
              "       width=\"24px\">\n",
              "    <path d=\"M0 0h24v24H0V0z\" fill=\"none\"/>\n",
              "    <path d=\"M18.56 5.44l.94 2.06.94-2.06 2.06-.94-2.06-.94-.94-2.06-.94 2.06-2.06.94zm-11 1L8.5 8.5l.94-2.06 2.06-.94-2.06-.94L8.5 2.5l-.94 2.06-2.06.94zm10 10l.94 2.06.94-2.06 2.06-.94-2.06-.94-.94-2.06-.94 2.06-2.06.94z\"/><path d=\"M17.41 7.96l-1.37-1.37c-.4-.4-.92-.59-1.43-.59-.52 0-1.04.2-1.43.59L10.3 9.45l-7.72 7.72c-.78.78-.78 2.05 0 2.83L4 21.41c.39.39.9.59 1.41.59.51 0 1.02-.2 1.41-.59l7.78-7.78 2.81-2.81c.8-.78.8-2.07 0-2.86zM5.41 20L4 18.59l7.72-7.72 1.47 1.35L5.41 20z\"/>\n",
              "  </svg>\n",
              "      </button>\n",
              "      \n",
              "  <style>\n",
              "    .colab-df-container {\n",
              "      display:flex;\n",
              "      flex-wrap:wrap;\n",
              "      gap: 12px;\n",
              "    }\n",
              "\n",
              "    .colab-df-convert {\n",
              "      background-color: #E8F0FE;\n",
              "      border: none;\n",
              "      border-radius: 50%;\n",
              "      cursor: pointer;\n",
              "      display: none;\n",
              "      fill: #1967D2;\n",
              "      height: 32px;\n",
              "      padding: 0 0 0 0;\n",
              "      width: 32px;\n",
              "    }\n",
              "\n",
              "    .colab-df-convert:hover {\n",
              "      background-color: #E2EBFA;\n",
              "      box-shadow: 0px 1px 2px rgba(60, 64, 67, 0.3), 0px 1px 3px 1px rgba(60, 64, 67, 0.15);\n",
              "      fill: #174EA6;\n",
              "    }\n",
              "\n",
              "    [theme=dark] .colab-df-convert {\n",
              "      background-color: #3B4455;\n",
              "      fill: #D2E3FC;\n",
              "    }\n",
              "\n",
              "    [theme=dark] .colab-df-convert:hover {\n",
              "      background-color: #434B5C;\n",
              "      box-shadow: 0px 1px 3px 1px rgba(0, 0, 0, 0.15);\n",
              "      filter: drop-shadow(0px 1px 2px rgba(0, 0, 0, 0.3));\n",
              "      fill: #FFFFFF;\n",
              "    }\n",
              "  </style>\n",
              "\n",
              "      <script>\n",
              "        const buttonEl =\n",
              "          document.querySelector('#df-d3bbf957-f43b-4118-a351-7eee30d24afe button.colab-df-convert');\n",
              "        buttonEl.style.display =\n",
              "          google.colab.kernel.accessAllowed ? 'block' : 'none';\n",
              "\n",
              "        async function convertToInteractive(key) {\n",
              "          const element = document.querySelector('#df-d3bbf957-f43b-4118-a351-7eee30d24afe');\n",
              "          const dataTable =\n",
              "            await google.colab.kernel.invokeFunction('convertToInteractive',\n",
              "                                                     [key], {});\n",
              "          if (!dataTable) return;\n",
              "\n",
              "          const docLinkHtml = 'Like what you see? Visit the ' +\n",
              "            '<a target=\"_blank\" href=https://colab.research.google.com/notebooks/data_table.ipynb>data table notebook</a>'\n",
              "            + ' to learn more about interactive tables.';\n",
              "          element.innerHTML = '';\n",
              "          dataTable['output_type'] = 'display_data';\n",
              "          await google.colab.output.renderOutput(dataTable, element);\n",
              "          const docLink = document.createElement('div');\n",
              "          docLink.innerHTML = docLinkHtml;\n",
              "          element.appendChild(docLink);\n",
              "        }\n",
              "      </script>\n",
              "    </div>\n",
              "  </div>\n",
              "  "
            ]
          },
          "metadata": {},
          "execution_count": 21
        }
      ]
    },
    {
      "cell_type": "markdown",
      "source": [
        "Transaksi dengan pengiriman yang terlambat akan cenderung mendapatkan rating 1. Sebanyak 46% transaksi dengan pengiriman terlambat mendapatkan rating 1. Sementara, transaksi dengan pengiriman tepat waktu cenderung mendapatkan rating 5. Sebanyak 62% transaksi dengan pengiriman tepat waktu mendapatkan rating 5."
      ],
      "metadata": {
        "id": "lFvZfAp4M7oO"
      }
    },
    {
      "cell_type": "markdown",
      "source": [
        "### Rekomendasi"
      ],
      "metadata": {
        "id": "ySHpmYt9NdMW"
      }
    },
    {
      "cell_type": "markdown",
      "source": [
        "Untuk menjaga kepuasan konsumen disarankan untuk meningkatkan kualitas pengiriman mengingat konsumen cenderung memberikan rating 1 apabila barang dikirimkan terlambat. Kota dengan jumlah transaksi tinggi seperti Sao Paulo dan Rio De Janeiro memiliki kemungkinan keterlambatan pengiriman lebih banyak sehingga disarankan untuk menambah armada pengiriman di kota-kota ini."
      ],
      "metadata": {
        "id": "xPjVo0aeNfru"
      }
    }
  ]
}